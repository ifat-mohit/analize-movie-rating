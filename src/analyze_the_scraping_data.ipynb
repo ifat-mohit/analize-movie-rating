{
 "cells": [
  {
   "cell_type": "markdown",
   "metadata": {},
   "source": [
    "## 1.  Import all necessary packages"
   ]
  },
  {
   "cell_type": "code",
   "execution_count": 3,
   "metadata": {},
   "outputs": [],
   "source": [
    "import pandas as pd\n",
    "import matplotlib.pyplot as plt\n",
    "%matplotlib inline"
   ]
  },
  {
   "cell_type": "markdown",
   "metadata": {},
   "source": [
    "## 2. Read the dataset src folder."
   ]
  },
  {
   "cell_type": "code",
   "execution_count": 4,
   "metadata": {},
   "outputs": [],
   "source": [
    "movie_df = pd.read_csv('movie_rating.csv')"
   ]
  },
  {
   "cell_type": "markdown",
   "metadata": {},
   "source": [
    "## 3. Look at the inside of the dataset"
   ]
  },
  {
   "cell_type": "code",
   "execution_count": 5,
   "metadata": {},
   "outputs": [
    {
     "name": "stdout",
     "output_type": "stream",
     "text": [
      "<class 'pandas.core.frame.DataFrame'>\n",
      "RangeIndex: 3220 entries, 0 to 3219\n",
      "Data columns (total 5 columns):\n",
      "movie_name      3220 non-null object\n",
      "release_year    3220 non-null object\n",
      "imdb            3220 non-null float64\n",
      "metascore       3220 non-null int64\n",
      "votes           3220 non-null int64\n",
      "dtypes: float64(1), int64(2), object(2)\n",
      "memory usage: 125.9+ KB\n"
     ]
    }
   ],
   "source": [
    "movie_df.info()"
   ]
  },
  {
   "cell_type": "code",
   "execution_count": 6,
   "metadata": {},
   "outputs": [
    {
     "data": {
      "text/html": [
       "<div>\n",
       "<style scoped>\n",
       "    .dataframe tbody tr th:only-of-type {\n",
       "        vertical-align: middle;\n",
       "    }\n",
       "\n",
       "    .dataframe tbody tr th {\n",
       "        vertical-align: top;\n",
       "    }\n",
       "\n",
       "    .dataframe thead th {\n",
       "        text-align: right;\n",
       "    }\n",
       "</style>\n",
       "<table border=\"1\" class=\"dataframe\">\n",
       "  <thead>\n",
       "    <tr style=\"text-align: right;\">\n",
       "      <th></th>\n",
       "      <th>movie_name</th>\n",
       "      <th>release_year</th>\n",
       "      <th>imdb</th>\n",
       "      <th>metascore</th>\n",
       "      <th>votes</th>\n",
       "    </tr>\n",
       "  </thead>\n",
       "  <tbody>\n",
       "    <tr>\n",
       "      <th>0</th>\n",
       "      <td>The Lord of the Rings: The Two Towers</td>\n",
       "      <td>(2002)</td>\n",
       "      <td>8.7</td>\n",
       "      <td>87</td>\n",
       "      <td>1363710</td>\n",
       "    </tr>\n",
       "    <tr>\n",
       "      <th>1</th>\n",
       "      <td>Catch Me If You Can</td>\n",
       "      <td>(2002)</td>\n",
       "      <td>8.1</td>\n",
       "      <td>75</td>\n",
       "      <td>727828</td>\n",
       "    </tr>\n",
       "    <tr>\n",
       "      <th>2</th>\n",
       "      <td>The Pianist</td>\n",
       "      <td>(2002)</td>\n",
       "      <td>8.5</td>\n",
       "      <td>85</td>\n",
       "      <td>650794</td>\n",
       "    </tr>\n",
       "    <tr>\n",
       "      <th>3</th>\n",
       "      <td>City of God</td>\n",
       "      <td>(2002)</td>\n",
       "      <td>8.6</td>\n",
       "      <td>79</td>\n",
       "      <td>650089</td>\n",
       "    </tr>\n",
       "    <tr>\n",
       "      <th>4</th>\n",
       "      <td>Spider-Man</td>\n",
       "      <td>(2002)</td>\n",
       "      <td>7.3</td>\n",
       "      <td>73</td>\n",
       "      <td>645782</td>\n",
       "    </tr>\n",
       "    <tr>\n",
       "      <th>5</th>\n",
       "      <td>Star Wars: Episode II - Attack of the Clones</td>\n",
       "      <td>(2002)</td>\n",
       "      <td>6.6</td>\n",
       "      <td>54</td>\n",
       "      <td>579350</td>\n",
       "    </tr>\n",
       "    <tr>\n",
       "      <th>6</th>\n",
       "      <td>Harry Potter and the Chamber of Secrets</td>\n",
       "      <td>(2002)</td>\n",
       "      <td>7.4</td>\n",
       "      <td>63</td>\n",
       "      <td>497828</td>\n",
       "    </tr>\n",
       "    <tr>\n",
       "      <th>7</th>\n",
       "      <td>The Bourne Identity</td>\n",
       "      <td>(2002)</td>\n",
       "      <td>7.9</td>\n",
       "      <td>68</td>\n",
       "      <td>477811</td>\n",
       "    </tr>\n",
       "    <tr>\n",
       "      <th>8</th>\n",
       "      <td>Minority Report</td>\n",
       "      <td>(2002)</td>\n",
       "      <td>7.6</td>\n",
       "      <td>80</td>\n",
       "      <td>472824</td>\n",
       "    </tr>\n",
       "    <tr>\n",
       "      <th>9</th>\n",
       "      <td>Ice Age</td>\n",
       "      <td>(2002)</td>\n",
       "      <td>7.5</td>\n",
       "      <td>60</td>\n",
       "      <td>406031</td>\n",
       "    </tr>\n",
       "  </tbody>\n",
       "</table>\n",
       "</div>"
      ],
      "text/plain": [
       "                                     movie_name release_year  imdb  metascore  \\\n",
       "0         The Lord of the Rings: The Two Towers       (2002)   8.7         87   \n",
       "1                           Catch Me If You Can       (2002)   8.1         75   \n",
       "2                                   The Pianist       (2002)   8.5         85   \n",
       "3                                   City of God       (2002)   8.6         79   \n",
       "4                                    Spider-Man       (2002)   7.3         73   \n",
       "5  Star Wars: Episode II - Attack of the Clones       (2002)   6.6         54   \n",
       "6       Harry Potter and the Chamber of Secrets       (2002)   7.4         63   \n",
       "7                           The Bourne Identity       (2002)   7.9         68   \n",
       "8                               Minority Report       (2002)   7.6         80   \n",
       "9                                       Ice Age       (2002)   7.5         60   \n",
       "\n",
       "     votes  \n",
       "0  1363710  \n",
       "1   727828  \n",
       "2   650794  \n",
       "3   650089  \n",
       "4   645782  \n",
       "5   579350  \n",
       "6   497828  \n",
       "7   477811  \n",
       "8   472824  \n",
       "9   406031  "
      ]
     },
     "execution_count": 6,
     "metadata": {},
     "output_type": "execute_result"
    }
   ],
   "source": [
    "movie_df.head(10)"
   ]
  },
  {
   "cell_type": "markdown",
   "metadata": {},
   "source": [
    "## 4. Cleaning the dataset"
   ]
  },
  {
   "cell_type": "code",
   "execution_count": 7,
   "metadata": {},
   "outputs": [
    {
     "data": {
      "text/plain": [
       "array(['(2002)', '(2003)', '(2004)', '(I) (2004)', '(2005)', '(I) (2005)',\n",
       "       '(2006)', '(I) (2006)', '(2007)', '(I) (2007)', '(2008)',\n",
       "       '(I) (2008)', '(2009)', '(I) (2009)', '(2010)', '(I) (2010)',\n",
       "       '(2011)', '(I) (2011)', '(2012)', '(I) (2012)', '(2013)',\n",
       "       '(I) (2013)', '(2014)', '(I) (2014)', '(II) (2014)', '(2015)',\n",
       "       '(I) (2015)', '(II) (2015)', '(2016)', '(II) (2016)', '(I) (2016)',\n",
       "       '(IX) (2016)', '(2017)', '(I) (2017)', '(2018)', '(I) (2018)',\n",
       "       '(III) (2018)', '(2019)', '(I) (2019)'], dtype=object)"
      ]
     },
     "execution_count": 7,
     "metadata": {},
     "output_type": "execute_result"
    }
   ],
   "source": [
    "movie_df['release_year'].unique()"
   ]
  },
  {
   "cell_type": "code",
   "execution_count": 8,
   "metadata": {},
   "outputs": [
    {
     "data": {
      "text/plain": [
       "array([2002, 2003, 2004, 2005, 2006, 2007, 2008, 2009, 2010, 2011, 2012,\n",
       "       2013, 2014, 2015, 2016, 2017, 2018, 2019])"
      ]
     },
     "execution_count": 8,
     "metadata": {},
     "output_type": "execute_result"
    }
   ],
   "source": [
    "# There is some noise in movie release year\n",
    "# Let remove it.\n",
    "\n",
    "movie_df.loc[:, 'release_year'] = movie_df['release_year'].str[-5:-1].astype(int)\n",
    "movie_df['release_year'].unique()"
   ]
  },
  {
   "cell_type": "code",
   "execution_count": 50,
   "metadata": {},
   "outputs": [
    {
     "data": {
      "text/html": [
       "<div>\n",
       "<style scoped>\n",
       "    .dataframe tbody tr th:only-of-type {\n",
       "        vertical-align: middle;\n",
       "    }\n",
       "\n",
       "    .dataframe tbody tr th {\n",
       "        vertical-align: top;\n",
       "    }\n",
       "\n",
       "    .dataframe thead th {\n",
       "        text-align: right;\n",
       "    }\n",
       "</style>\n",
       "<table border=\"1\" class=\"dataframe\">\n",
       "  <thead>\n",
       "    <tr style=\"text-align: right;\">\n",
       "      <th></th>\n",
       "      <th>imdb</th>\n",
       "      <th>metascore</th>\n",
       "    </tr>\n",
       "  </thead>\n",
       "  <tbody>\n",
       "    <tr>\n",
       "      <th>min</th>\n",
       "      <td>4.1</td>\n",
       "      <td>19.0</td>\n",
       "    </tr>\n",
       "    <tr>\n",
       "      <th>max</th>\n",
       "      <td>9.0</td>\n",
       "      <td>100.0</td>\n",
       "    </tr>\n",
       "  </tbody>\n",
       "</table>\n",
       "</div>"
      ],
      "text/plain": [
       "     imdb  metascore\n",
       "min   4.1       19.0\n",
       "max   9.0      100.0"
      ]
     },
     "execution_count": 50,
     "metadata": {},
     "output_type": "execute_result"
    }
   ],
   "source": [
    "movie_df.describe().loc[['min', 'max'], ['imdb', 'metascore']]"
   ]
  },
  {
   "cell_type": "code",
   "execution_count": 9,
   "metadata": {},
   "outputs": [
    {
     "data": {
      "text/html": [
       "<div>\n",
       "<style scoped>\n",
       "    .dataframe tbody tr th:only-of-type {\n",
       "        vertical-align: middle;\n",
       "    }\n",
       "\n",
       "    .dataframe tbody tr th {\n",
       "        vertical-align: top;\n",
       "    }\n",
       "\n",
       "    .dataframe thead th {\n",
       "        text-align: right;\n",
       "    }\n",
       "</style>\n",
       "<table border=\"1\" class=\"dataframe\">\n",
       "  <thead>\n",
       "    <tr style=\"text-align: right;\">\n",
       "      <th></th>\n",
       "      <th>movie_name</th>\n",
       "      <th>release_year</th>\n",
       "      <th>imdb</th>\n",
       "      <th>metascore</th>\n",
       "      <th>votes</th>\n",
       "      <th>n_imdb</th>\n",
       "    </tr>\n",
       "  </thead>\n",
       "  <tbody>\n",
       "    <tr>\n",
       "      <th>0</th>\n",
       "      <td>The Lord of the Rings: The Two Towers</td>\n",
       "      <td>2002</td>\n",
       "      <td>8.7</td>\n",
       "      <td>87</td>\n",
       "      <td>1363710</td>\n",
       "      <td>87.0</td>\n",
       "    </tr>\n",
       "    <tr>\n",
       "      <th>1</th>\n",
       "      <td>Catch Me If You Can</td>\n",
       "      <td>2002</td>\n",
       "      <td>8.1</td>\n",
       "      <td>75</td>\n",
       "      <td>727828</td>\n",
       "      <td>81.0</td>\n",
       "    </tr>\n",
       "    <tr>\n",
       "      <th>2</th>\n",
       "      <td>The Pianist</td>\n",
       "      <td>2002</td>\n",
       "      <td>8.5</td>\n",
       "      <td>85</td>\n",
       "      <td>650794</td>\n",
       "      <td>85.0</td>\n",
       "    </tr>\n",
       "    <tr>\n",
       "      <th>3</th>\n",
       "      <td>City of God</td>\n",
       "      <td>2002</td>\n",
       "      <td>8.6</td>\n",
       "      <td>79</td>\n",
       "      <td>650089</td>\n",
       "      <td>86.0</td>\n",
       "    </tr>\n",
       "    <tr>\n",
       "      <th>4</th>\n",
       "      <td>Spider-Man</td>\n",
       "      <td>2002</td>\n",
       "      <td>7.3</td>\n",
       "      <td>73</td>\n",
       "      <td>645782</td>\n",
       "      <td>73.0</td>\n",
       "    </tr>\n",
       "  </tbody>\n",
       "</table>\n",
       "</div>"
      ],
      "text/plain": [
       "                              movie_name  release_year  imdb  metascore  \\\n",
       "0  The Lord of the Rings: The Two Towers          2002   8.7         87   \n",
       "1                    Catch Me If You Can          2002   8.1         75   \n",
       "2                            The Pianist          2002   8.5         85   \n",
       "3                            City of God          2002   8.6         79   \n",
       "4                             Spider-Man          2002   7.3         73   \n",
       "\n",
       "     votes  n_imdb  \n",
       "0  1363710    87.0  \n",
       "1   727828    81.0  \n",
       "2   650794    85.0  \n",
       "3   650089    86.0  \n",
       "4   645782    73.0  "
      ]
     },
     "execution_count": 9,
     "metadata": {},
     "output_type": "execute_result"
    }
   ],
   "source": [
    "# Two ratings are different scale\n",
    "# We can multiply by 10 imdb to look nice in plot\n",
    "\n",
    "movie_df['n_imdb'] = movie_df['imdb'] * 10\n",
    "movie_df.head()"
   ]
  },
  {
   "cell_type": "markdown",
   "metadata": {},
   "source": [
    "## 5. Plotting and analyzing the distributions"
   ]
  },
  {
   "cell_type": "code",
   "execution_count": 10,
   "metadata": {},
   "outputs": [
    {
     "name": "stderr",
     "output_type": "stream",
     "text": [
      "No handles with labels found to put in legend.\n",
      "/home/mohit/anaconda3/lib/python3.7/site-packages/ipykernel_launcher.py:12: MatplotlibDeprecationWarning: Unrecognized location 'uper left'. Falling back on 'best'; valid locations are\n",
      "\tbest\n",
      "\tupper right\n",
      "\tupper left\n",
      "\tlower left\n",
      "\tlower right\n",
      "\tright\n",
      "\tcenter left\n",
      "\tcenter right\n",
      "\tlower center\n",
      "\tupper center\n",
      "\tcenter\n",
      "This will raise an exception in 3.3.\n",
      "  if sys.path[0] == '':\n"
     ]
    },
    {
     "data": {
      "image/png": "[encoded data removed]",
      "text/plain": [
       "<Figure size 1152x288 with 3 Axes>"
      ]
     },
     "metadata": {
      "needs_background": "light"
     },
     "output_type": "display_data"
    }
   ],
   "source": [
    "fig, axes = plt.subplots(nrows = 1, ncols = 3, figsize = (16, 4))\n",
    "ax1, ax2, ax3 = fig.axes\n",
    "\n",
    "ax1.hist(movie_df['imdb'], bins=10, range = (0, 10))   # bin range = 1\n",
    "ax1.set_title('IMDB rating')\n",
    "\n",
    "ax2.hist(movie_df['metascore'], bins=10, range=(0, 100))   # bin range = 10\n",
    "ax2.set_title('Metascore')\n",
    "\n",
    "ax3.hist(movie_df['n_imdb'], bins=10, range=(0, 100), histtype = 'step')\n",
    "ax3.hist(movie_df['metascore'], bins=10, range=(0, 100), histtype = 'step')\n",
    "ax3.legend(loc = 'uper left')\n",
    "ax3.set_title('The Two Normalized Distributions')\n",
    "\n",
    "for ax in fig.axes:\n",
    "    ax.spines['top'].set_visible(False)\n",
    "    ax.spines['right'].set_visible(False)\n",
    "plt.show()"
   ]
  },
  {
   "cell_type": "code",
   "execution_count": null,
   "metadata": {},
   "outputs": [],
   "source": []
  }
 ],
 "metadata": {
  "kernelspec": {
   "display_name": "Python 3",
   "language": "python",
   "name": "python3"
  },
  "language_info": {
   "codemirror_mode": {
    "name": "ipython",
    "version": 3
   },
   "file_extension": ".py",
   "mimetype": "text/x-python",
   "name": "python",
   "nbconvert_exporter": "python",
   "pygments_lexer": "ipython3",
   "version": "3.7.3"
  }
 },
 "nbformat": 4,
 "nbformat_minor": 2
}
